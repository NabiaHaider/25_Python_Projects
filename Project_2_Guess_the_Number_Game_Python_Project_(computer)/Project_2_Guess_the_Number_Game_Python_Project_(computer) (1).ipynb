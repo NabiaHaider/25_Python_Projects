{
  "cells": [
    {
      "cell_type": "code",
      "source": [
        "import random   # random module import kar rahe hain taake random number generate kar saken\n",
        "\n",
        "\n",
        "def guess_the_number():   # game ka main function define kiya\n",
        "    number_to_guess = random.randint(1, 100)   # 1 se 100 ke darmiyan random number choose kiya\n",
        "    attempts = 0    # guess count track karne ke liye variable\n",
        "\n",
        "    print(\"🎮 Welcome to 'Guess the Number'!\")\n",
        "    print(\"Try to guess the number between 1 and 100.\")   # instruction for user\n",
        "\n",
        "    while True:  # infinite loop — jab tak user sahi guess nahi karta\n",
        "        try:\n",
        "            guess = int(input(\"Enter your guess: \"))    # user se number input le rahe hain\n",
        "            attempts += 1  # har guess ke baad attempts badhate hain\n",
        "\n",
        "            if guess == number_to_guess:   # agar guess sahi ho\n",
        "                print(f\"✅ Congratulations! You guessed it in {attempts} tries.\")\n",
        "                break  # loop se bahar nikal jao (game end)\n",
        "            else:\n",
        "                print(f\"❌ Wrong guess! The correct number was {number_to_guess}. Try again.\")\n",
        "                # Computer changes the number after wrong guess\n",
        "                number_to_guess = random.randint(1, 100)\n",
        "        except ValueError:\n",
        "            print(\"❌ Please enter a valid number.\")\n",
        "\n",
        "# Run the game\n",
        "guess_the_number()\n"
      ],
      "metadata": {
        "colab": {
          "base_uri": "https://localhost:8080/"
        },
        "id": "-30z3HA73pq5",
        "outputId": "54a7da1a-d596-4451-dff4-9b658915eea6"
      },
      "execution_count": null,
      "outputs": [
        {
          "output_type": "stream",
          "name": "stdout",
          "text": [
            "🎮 Welcome to 'Guess the Number'!\n",
            "Try to guess the number between 1 and 100.\n",
            "Enter your guess: 65\n",
            "❌ Wrong guess! The correct number was 73. Try again.\n",
            "Enter your guess: 45\n",
            "❌ Wrong guess! The correct number was 72. Try again.\n",
            "Enter your guess: 75\n",
            "✅ Congratulations! You guessed it in 3 tries.\n"
          ]
        }
      ]
    }
  ],
  "metadata": {
    "colab": {
      "provenance": []
    },
    "kernelspec": {
      "display_name": "Python 3",
      "name": "python3"
    },
    "language_info": {
      "name": "python"
    }
  },
  "nbformat": 4,
  "nbformat_minor": 0
}